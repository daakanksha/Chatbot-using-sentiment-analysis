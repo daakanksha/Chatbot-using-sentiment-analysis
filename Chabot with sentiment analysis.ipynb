{
 "cells": [
  {
   "cell_type": "code",
   "execution_count": 1,
   "id": "e73b5b73",
   "metadata": {},
   "outputs": [
    {
     "data": {
      "text/html": [
       "        <script type=\"text/javascript\">\n",
       "        window.PlotlyConfig = {MathJaxConfig: 'local'};\n",
       "        if (window.MathJax) {MathJax.Hub.Config({SVG: {font: \"STIX-Web\"}});}\n",
       "        if (typeof require !== 'undefined') {\n",
       "        require.undef(\"plotly\");\n",
       "        requirejs.config({\n",
       "            paths: {\n",
       "                'plotly': ['https://cdn.plot.ly/plotly-latest.min']\n",
       "            }\n",
       "        });\n",
       "        require(['plotly'], function(Plotly) {\n",
       "            window._Plotly = Plotly;\n",
       "        });\n",
       "        }\n",
       "        </script>\n",
       "        "
      ]
     },
     "metadata": {},
     "output_type": "display_data"
    }
   ],
   "source": [
    "import nltk\n",
    "from nltk.stem import WordNetLemmatizer\n",
    "lemmatizer = WordNetLemmatizer()\n",
    "import json\n",
    "import pickle\n",
    "import numpy as np\n",
    "import pandas as pd\n",
    "from keras.models import Sequential\n",
    "from keras.layers import Dense, Activation, Dropout\n",
    "from keras.optimizers import SGD\n",
    "from sklearn import metrics\n",
    "from sklearn.svm import SVC\n",
    "from sklearn.metrics import classification_report,confusion_matrix,accuracy_score\n",
    "from sklearn.naive_bayes import MultinomialNB\n",
    "import random\n",
    "import matplotlib.pyplot as plt\n",
    "import seaborn as sns\n",
    "color = sns.color_palette()\n",
    "%matplotlib inline\n",
    "import plotly.offline as py\n",
    "py.init_notebook_mode(connected=True)\n",
    "import plotly.graph_objs as go\n",
    "import plotly.tools as tls\n",
    "import plotly.express as px\n",
    "words=[]\n",
    "classes = []\n",
    "documents = []\n",
    "ignore_words = ['?', '!']\n",
    "data_file = open('intents.json').read()\n",
    "intents = json.loads(data_file)"
   ]
  },
  {
   "cell_type": "code",
   "execution_count": 2,
   "id": "53678feb",
   "metadata": {},
   "outputs": [],
   "source": [
    "for intent in intents['intents']:\n",
    "    for pattern in intent['patterns']:\n",
    "        #tokenize each word\n",
    "        w = nltk.word_tokenize(pattern)\n",
    "        words.extend(w)\n",
    "        #add documents in the corpus\n",
    "        documents.append((w, intent['tag']))\n",
    "        # add to our classes list\n",
    "        if intent['tag'] not in classes:\n",
    "            classes.append(intent['tag'])"
   ]
  },
  {
   "cell_type": "code",
   "execution_count": 3,
   "id": "298f60ed",
   "metadata": {},
   "outputs": [
    {
     "name": "stdout",
     "output_type": "stream",
     "text": [
      "262 documents\n",
      "19 classes ['about', 'canswer1', 'canswer2', 'canswer3', 'comments', 'complaint', 'fanswer1', 'fanswer2', 'feedback', 'goodbye', 'greeting', 'help', 'name', 'negative', 'neutral', 'noanswer', 'options', 'postive', 'thanks']\n",
      "296 unique lemmatized words [\"'m\", \"'s\", ',', '.', 'a', 'about', 'affordable', 'again', 'alright', 'always', 'am', 'amazing', 'an', 'and', 'angry', 'annoyed', 'anyone', 'are', 'assist', 'at', 'atmosphere', 'attentive', 'authentic', 'awesome', 'awful', 'bad', 'been', 'best', 'better', 'beyond', 'bitterful', 'blowing', 'by', 'bye', 'call', 'calling', 'can', 'care', 'cash', 'choice', 'close', 'cold', 'complain', 'complaint', 'consistently', 'content', 'cooked', 'could', 'courteous/happy', 'cuisine', 'customer', 'cya', 'day', 'decent', 'definitely', 'delicous', 'delighted', 'delivered', 'delivery', 'demanded', 'didnt', 'displeaded', 'displeased', 'dissatified', 'dissatisfied', 'do', 'done', 'dry', 'duty', 'enjoyed', 'even', 'ever', 'exceeded', 'excellent', 'expectation', 'expected', 'experctations', 'experience', 'experince', 'expired', 'extra', 'extremely', 'facing', 'fantastic', 'faster', 'feedback', 'file', 'filthy', 'fine', 'first', 'flawless', 'follow', 'food', 'for', 'fresh', 'friendly', 'from', 'frozen', 'give', 'go', 'good', 'goodbye', 'got', 'gotto', 'great', 'guide', 'guy', 'ha', 'had', 'hai', 'haii', 'hand', 'happy', 'hard', 'have', 'having', 'hello', 'help', 'helpful', 'helping', 'hey', 'hi', 'high', 'hii', 'horrible', 'hot-', 'how', 'hya', 'i', 'im', 'impressed', 'ingredient', 'introduce', 'irritated', 'is', 'issue', 'it', 'jewel', 'joyful', 'just', 'keep', 'lack', 'later', 'like', 'liked', 'long', 'looked', 'lot', 'mad', 'make', 'many', 'mark', 'marvelous', 'me', 'meal', 'mediocre', 'meet', 'menu', 'mess', 'messed', 'messy', 'mind', 'money', 'most', 'much', 'my', \"n't\", 'name', 'need', 'neither', 'never', 'nice', 'no', 'nope', 'nor', 'normal', 'not', 'odour', 'of', 'ok', 'okay', 'order', 'our', 'pathetic', 'peaceful', 'piping', 'please', 'pleased', 'poor', 'presented', 'price', 'problem', 'professional', 'properly', 'provide', 'provided', 'provivded', 'quality', 'raise', 'reach', 'reached', 'really', 'recieved', 'recived', 'recommend', 'resolution', 'restaurant', 'rotten', 'rude', 'salty', 'satisfied', 'seasoned', 'see', 'seemed', 'seen', 'sepctacular', 'served', 'service', 'should', 'simply', 'sleepy', 'slow', 'so', 'somehow', 'something', 'somewhat', 'spicy', 'staff', 'stale', 'standard', 'star', 'sublime', 'such', 'super', 'superb', 'support', 'talk', 'talking', 'tasty', 'tell', 'thank', 'thanks', 'that', 'the', 'then', 'there', 'this', 'thumb', 'time', 'tired', 'to', 'too', 'tooo', 'trouble', 'uncooked', 'unhappy', 'uninstrested', 'unprofessional', 'up', 'upto', 'utterly', 'value', 'very', 'wa', 'wait', 'want', 'warm', 'wasnt', 'way', 'we', 'welcome', 'well', 'were', 'what', 'whats', 'whatsup', 'who', 'wholesome', 'whom', 'will', 'wish', 'with', 'wonderful', 'work', 'worse', 'worst', 'would', 'wrothless', 'wrothy', 'ya', 'yes', 'yo', 'you', 'your', 'yourself', 'zero']\n"
     ]
    }
   ],
   "source": [
    "# lemmatize, lower each word and remove duplicates\n",
    "words = [lemmatizer.lemmatize(w.lower()) for w in words if w not in ignore_words]\n",
    "words = sorted(list(set(words)))\n",
    "# sort classes\n",
    "classes = sorted(list(set(classes)))\n",
    "# documents = combination between patterns and intents\n",
    "print (len(documents), \"documents\")\n",
    "# classes = intents\n",
    "print (len(classes), \"classes\", classes)\n",
    "# words = all words, vocabulary\n",
    "print (len(words), \"unique lemmatized words\", words)\n",
    "pickle.dump(words,open('words.pkl','wb'))\n",
    "pickle.dump(classes,open('classes.pkl','wb'))"
   ]
  },
  {
   "cell_type": "code",
   "execution_count": 4,
   "id": "ecda031d",
   "metadata": {},
   "outputs": [
    {
     "name": "stdout",
     "output_type": "stream",
     "text": [
      "Training data created\n"
     ]
    },
    {
     "name": "stderr",
     "output_type": "stream",
     "text": [
      "C:\\Users\\admin\\anaconda3\\envs\\notebook\\lib\\site-packages\\ipykernel_launcher.py:22: VisibleDeprecationWarning:\n",
      "\n",
      "Creating an ndarray from ragged nested sequences (which is a list-or-tuple of lists-or-tuples-or ndarrays with different lengths or shapes) is deprecated. If you meant to do this, you must specify 'dtype=object' when creating the ndarray\n",
      "\n"
     ]
    }
   ],
   "source": [
    "# create our training data\n",
    "training = []\n",
    "# create an empty array for our output\n",
    "output_empty = [0] * len(classes)\n",
    "# training set, bag of words for each sentence\n",
    "for doc in documents:\n",
    "    # initialize our bag of words\n",
    "    bag = []\n",
    "    # list of tokenized words for the pattern\n",
    "    pattern_words = doc[0]\n",
    "    # lemmatize each word - create base word, in attempt to represent related words\n",
    "    pattern_words = [lemmatizer.lemmatize(word.lower()) for word in pattern_words]\n",
    "    # create our bag of words array with 1, if word match found in current pattern\n",
    "    for w in words:\n",
    "        bag.append(1) if w in pattern_words else bag.append(0)\n",
    "    # output is a '0' for each tag and '1' for current tag (for each pattern)\n",
    "    output_row = list(output_empty)\n",
    "    output_row[classes.index(doc[1])] = 1\n",
    "    training.append([bag, output_row])\n",
    "# shuffle our features and turn into np.array\n",
    "random.shuffle(training)\n",
    "training = np.array(training)\n",
    "# create train and test lists. X - patterns, Y - intents\n",
    "train_x = list(training[:,0])\n",
    "train_y = list(training[:,1])\n",
    "print(\"Training data created\")"
   ]
  },
  {
   "cell_type": "code",
   "execution_count": 5,
   "id": "5df5b58f",
   "metadata": {},
   "outputs": [
    {
     "name": "stdout",
     "output_type": "stream",
     "text": [
      "Epoch 1/100\n",
      "53/53 [==============================] - 1s 1ms/step - loss: 2.9110 - accuracy: 0.1076\n",
      "Epoch 2/100\n",
      "53/53 [==============================] - 0s 1ms/step - loss: 2.6463 - accuracy: 0.1728\n",
      "Epoch 3/100\n",
      "53/53 [==============================] - 0s 1ms/step - loss: 2.5797 - accuracy: 0.2126\n",
      "Epoch 4/100\n",
      "53/53 [==============================] - 0s 2ms/step - loss: 2.3979 - accuracy: 0.3044\n",
      "Epoch 5/100\n",
      "53/53 [==============================] - 0s 2ms/step - loss: 2.1812 - accuracy: 0.3449\n",
      "Epoch 6/100\n",
      "53/53 [==============================] - 0s 2ms/step - loss: 2.1459 - accuracy: 0.3065\n",
      "Epoch 7/100\n",
      "53/53 [==============================] - 0s 1ms/step - loss: 1.8842 - accuracy: 0.4320\n",
      "Epoch 8/100\n",
      "53/53 [==============================] - 0s 2ms/step - loss: 1.7959 - accuracy: 0.4398\n",
      "Epoch 9/100\n",
      "53/53 [==============================] - 0s 1ms/step - loss: 1.7097 - accuracy: 0.4971\n",
      "Epoch 10/100\n",
      "53/53 [==============================] - 0s 2ms/step - loss: 1.5446 - accuracy: 0.5525\n",
      "Epoch 11/100\n",
      "53/53 [==============================] - 0s 2ms/step - loss: 1.5225 - accuracy: 0.5770\n",
      "Epoch 12/100\n",
      "53/53 [==============================] - 0s 2ms/step - loss: 1.2439 - accuracy: 0.5700\n",
      "Epoch 13/100\n",
      "53/53 [==============================] - 0s 2ms/step - loss: 1.1568 - accuracy: 0.6359\n",
      "Epoch 14/100\n",
      "53/53 [==============================] - 0s 2ms/step - loss: 1.0557 - accuracy: 0.6241\n",
      "Epoch 15/100\n",
      "53/53 [==============================] - 0s 2ms/step - loss: 1.0392 - accuracy: 0.6694\n",
      "Epoch 16/100\n",
      "53/53 [==============================] - 0s 2ms/step - loss: 0.9933 - accuracy: 0.6693\n",
      "Epoch 17/100\n",
      "53/53 [==============================] - 0s 2ms/step - loss: 0.8264 - accuracy: 0.7181\n",
      "Epoch 18/100\n",
      "53/53 [==============================] - 0s 2ms/step - loss: 0.9174 - accuracy: 0.7179\n",
      "Epoch 19/100\n",
      "53/53 [==============================] - 0s 2ms/step - loss: 0.9060 - accuracy: 0.7056\n",
      "Epoch 20/100\n",
      "53/53 [==============================] - 0s 2ms/step - loss: 0.8181 - accuracy: 0.7636\n",
      "Epoch 21/100\n",
      "53/53 [==============================] - 0s 1ms/step - loss: 0.7312 - accuracy: 0.7723\n",
      "Epoch 22/100\n",
      "53/53 [==============================] - 0s 2ms/step - loss: 0.6380 - accuracy: 0.7900\n",
      "Epoch 23/100\n",
      "53/53 [==============================] - 0s 2ms/step - loss: 0.6115 - accuracy: 0.8297\n",
      "Epoch 24/100\n",
      "53/53 [==============================] - 0s 2ms/step - loss: 0.6647 - accuracy: 0.7843\n",
      "Epoch 25/100\n",
      "53/53 [==============================] - 0s 2ms/step - loss: 0.5113 - accuracy: 0.8376\n",
      "Epoch 26/100\n",
      "53/53 [==============================] - 0s 2ms/step - loss: 0.6135 - accuracy: 0.7626\n",
      "Epoch 27/100\n",
      "53/53 [==============================] - 0s 2ms/step - loss: 0.5857 - accuracy: 0.7822\n",
      "Epoch 28/100\n",
      "53/53 [==============================] - 0s 2ms/step - loss: 0.4499 - accuracy: 0.8555\n",
      "Epoch 29/100\n",
      "53/53 [==============================] - 0s 2ms/step - loss: 0.4051 - accuracy: 0.8465\n",
      "Epoch 30/100\n",
      "53/53 [==============================] - 0s 2ms/step - loss: 0.4112 - accuracy: 0.8886\n",
      "Epoch 31/100\n",
      "53/53 [==============================] - 0s 2ms/step - loss: 0.5115 - accuracy: 0.8386\n",
      "Epoch 32/100\n",
      "53/53 [==============================] - 0s 2ms/step - loss: 0.3886 - accuracy: 0.8776\n",
      "Epoch 33/100\n",
      "53/53 [==============================] - 0s 2ms/step - loss: 0.4867 - accuracy: 0.8577\n",
      "Epoch 34/100\n",
      "53/53 [==============================] - 0s 1ms/step - loss: 0.3559 - accuracy: 0.8923\n",
      "Epoch 35/100\n",
      "53/53 [==============================] - 0s 2ms/step - loss: 0.4429 - accuracy: 0.8494\n",
      "Epoch 36/100\n",
      "53/53 [==============================] - 0s 2ms/step - loss: 0.3733 - accuracy: 0.8968\n",
      "Epoch 37/100\n",
      "53/53 [==============================] - 0s 2ms/step - loss: 0.4047 - accuracy: 0.8778\n",
      "Epoch 38/100\n",
      "53/53 [==============================] - 0s 2ms/step - loss: 0.3201 - accuracy: 0.8986\n",
      "Epoch 39/100\n",
      "53/53 [==============================] - 0s 2ms/step - loss: 0.2957 - accuracy: 0.9185\n",
      "Epoch 40/100\n",
      "53/53 [==============================] - 0s 2ms/step - loss: 0.3738 - accuracy: 0.8853\n",
      "Epoch 41/100\n",
      "53/53 [==============================] - 0s 2ms/step - loss: 0.3581 - accuracy: 0.8975\n",
      "Epoch 42/100\n",
      "53/53 [==============================] - 0s 2ms/step - loss: 0.3532 - accuracy: 0.8932\n",
      "Epoch 43/100\n",
      "53/53 [==============================] - 0s 2ms/step - loss: 0.3006 - accuracy: 0.9068\n",
      "Epoch 44/100\n",
      "53/53 [==============================] - 0s 2ms/step - loss: 0.2922 - accuracy: 0.9003\n",
      "Epoch 45/100\n",
      "53/53 [==============================] - 0s 2ms/step - loss: 0.3854 - accuracy: 0.8757\n",
      "Epoch 46/100\n",
      "53/53 [==============================] - 0s 2ms/step - loss: 0.3007 - accuracy: 0.9006\n",
      "Epoch 47/100\n",
      "53/53 [==============================] - 0s 2ms/step - loss: 0.2436 - accuracy: 0.9310\n",
      "Epoch 48/100\n",
      "53/53 [==============================] - 0s 2ms/step - loss: 0.4130 - accuracy: 0.8879\n",
      "Epoch 49/100\n",
      "53/53 [==============================] - 0s 2ms/step - loss: 0.3150 - accuracy: 0.9268\n",
      "Epoch 50/100\n",
      "53/53 [==============================] - 0s 2ms/step - loss: 0.2863 - accuracy: 0.8912\n",
      "Epoch 51/100\n",
      "53/53 [==============================] - 0s 2ms/step - loss: 0.2663 - accuracy: 0.9046\n",
      "Epoch 52/100\n",
      "53/53 [==============================] - 0s 2ms/step - loss: 0.2479 - accuracy: 0.9294\n",
      "Epoch 53/100\n",
      "53/53 [==============================] - 0s 2ms/step - loss: 0.2415 - accuracy: 0.9270\n",
      "Epoch 54/100\n",
      "53/53 [==============================] - 0s 2ms/step - loss: 0.2193 - accuracy: 0.9402\n",
      "Epoch 55/100\n",
      "53/53 [==============================] - 0s 2ms/step - loss: 0.1380 - accuracy: 0.9517\n",
      "Epoch 56/100\n",
      "53/53 [==============================] - 0s 2ms/step - loss: 0.2443 - accuracy: 0.8956\n",
      "Epoch 57/100\n",
      "53/53 [==============================] - 0s 2ms/step - loss: 0.3047 - accuracy: 0.8901\n",
      "Epoch 58/100\n",
      "53/53 [==============================] - 0s 2ms/step - loss: 0.1866 - accuracy: 0.9383\n",
      "Epoch 59/100\n",
      "53/53 [==============================] - 0s 2ms/step - loss: 0.1866 - accuracy: 0.9507\n",
      "Epoch 60/100\n",
      "53/53 [==============================] - 0s 2ms/step - loss: 0.2286 - accuracy: 0.9165\n",
      "Epoch 61/100\n",
      "53/53 [==============================] - 0s 2ms/step - loss: 0.1761 - accuracy: 0.9615\n",
      "Epoch 62/100\n",
      "53/53 [==============================] - 0s 1ms/step - loss: 0.2037 - accuracy: 0.9402\n",
      "Epoch 63/100\n",
      "53/53 [==============================] - 0s 1ms/step - loss: 0.2215 - accuracy: 0.9179\n",
      "Epoch 64/100\n",
      "53/53 [==============================] - 0s 1ms/step - loss: 0.1675 - accuracy: 0.9357\n",
      "Epoch 65/100\n",
      "53/53 [==============================] - 0s 2ms/step - loss: 0.2005 - accuracy: 0.9222\n",
      "Epoch 66/100\n",
      "53/53 [==============================] - 0s 2ms/step - loss: 0.1426 - accuracy: 0.9733\n",
      "Epoch 67/100\n",
      "53/53 [==============================] - 0s 2ms/step - loss: 0.1883 - accuracy: 0.9399\n",
      "Epoch 68/100\n",
      "53/53 [==============================] - 0s 2ms/step - loss: 0.1407 - accuracy: 0.9607\n",
      "Epoch 69/100\n",
      "53/53 [==============================] - 0s 2ms/step - loss: 0.1890 - accuracy: 0.9525\n",
      "Epoch 70/100\n",
      "53/53 [==============================] - 0s 2ms/step - loss: 0.2136 - accuracy: 0.9318\n",
      "Epoch 71/100\n",
      "53/53 [==============================] - 0s 2ms/step - loss: 0.2372 - accuracy: 0.9092\n",
      "Epoch 72/100\n",
      "53/53 [==============================] - 0s 2ms/step - loss: 0.1891 - accuracy: 0.9301\n",
      "Epoch 73/100\n",
      "53/53 [==============================] - 0s 2ms/step - loss: 0.1389 - accuracy: 0.9565\n",
      "Epoch 74/100\n",
      "53/53 [==============================] - 0s 2ms/step - loss: 0.1744 - accuracy: 0.9536\n",
      "Epoch 75/100\n",
      "53/53 [==============================] - 0s 2ms/step - loss: 0.1019 - accuracy: 0.9856\n",
      "Epoch 76/100\n",
      "53/53 [==============================] - 0s 2ms/step - loss: 0.1116 - accuracy: 0.9651\n",
      "Epoch 77/100\n",
      "53/53 [==============================] - 0s 2ms/step - loss: 0.1212 - accuracy: 0.9503\n",
      "Epoch 78/100\n",
      "53/53 [==============================] - 0s 2ms/step - loss: 0.2993 - accuracy: 0.9230\n",
      "Epoch 79/100\n",
      "53/53 [==============================] - 0s 2ms/step - loss: 0.1787 - accuracy: 0.9437\n",
      "Epoch 80/100\n",
      "53/53 [==============================] - 0s 2ms/step - loss: 0.1685 - accuracy: 0.9395\n",
      "Epoch 81/100\n",
      "53/53 [==============================] - 0s 2ms/step - loss: 0.2022 - accuracy: 0.9236\n",
      "Epoch 82/100\n",
      "53/53 [==============================] - 0s 2ms/step - loss: 0.1955 - accuracy: 0.9251\n",
      "Epoch 83/100\n",
      "53/53 [==============================] - 0s 2ms/step - loss: 0.1288 - accuracy: 0.9480\n",
      "Epoch 84/100\n",
      "53/53 [==============================] - 0s 2ms/step - loss: 0.1072 - accuracy: 0.9660\n",
      "Epoch 85/100\n",
      "53/53 [==============================] - 0s 2ms/step - loss: 0.2357 - accuracy: 0.9267\n",
      "Epoch 86/100\n",
      "53/53 [==============================] - 0s 2ms/step - loss: 0.1095 - accuracy: 0.9646\n",
      "Epoch 87/100\n",
      "53/53 [==============================] - 0s 2ms/step - loss: 0.1433 - accuracy: 0.9524\n",
      "Epoch 88/100\n",
      "53/53 [==============================] - 0s 2ms/step - loss: 0.1678 - accuracy: 0.9467\n",
      "Epoch 89/100\n",
      "53/53 [==============================] - 0s 2ms/step - loss: 0.1326 - accuracy: 0.9695\n",
      "Epoch 90/100\n",
      "53/53 [==============================] - 0s 2ms/step - loss: 0.1190 - accuracy: 0.9564\n",
      "Epoch 91/100\n",
      "53/53 [==============================] - 0s 2ms/step - loss: 0.1221 - accuracy: 0.9558\n",
      "Epoch 92/100\n",
      "53/53 [==============================] - 0s 2ms/step - loss: 0.1081 - accuracy: 0.9623\n",
      "Epoch 93/100\n",
      "53/53 [==============================] - 0s 2ms/step - loss: 0.1494 - accuracy: 0.9480\n",
      "Epoch 94/100\n",
      "53/53 [==============================] - 0s 2ms/step - loss: 0.1388 - accuracy: 0.9591\n",
      "Epoch 95/100\n",
      "53/53 [==============================] - 0s 2ms/step - loss: 0.1356 - accuracy: 0.9359\n",
      "Epoch 96/100\n",
      "53/53 [==============================] - 0s 1ms/step - loss: 0.1241 - accuracy: 0.9660\n",
      "Epoch 97/100\n",
      "53/53 [==============================] - 0s 1ms/step - loss: 0.1573 - accuracy: 0.9586\n",
      "Epoch 98/100\n",
      "53/53 [==============================] - 0s 1ms/step - loss: 0.1069 - accuracy: 0.9667\n",
      "Epoch 99/100\n",
      "53/53 [==============================] - 0s 1ms/step - loss: 0.1220 - accuracy: 0.9648\n",
      "Epoch 100/100\n",
      "53/53 [==============================] - 0s 2ms/step - loss: 0.1770 - accuracy: 0.9415\n",
      "model created\n"
     ]
    }
   ],
   "source": [
    "# Create model - 3 layers. First layer 128 neurons, second layer 64 neurons and 3rd output layer contains number of neurons\n",
    "# equal to number of intents to predict output intent with softmax\n",
    "model = Sequential()\n",
    "model.add(Dense(128, input_shape=(len(train_x[0]),), activation='relu'))\n",
    "model.add(Dropout(0.5))\n",
    "model.add(Dense(64, activation='relu'))\n",
    "model.add(Dropout(0.5))\n",
    "model.add(Dense(len(train_y[0]), activation='softmax'))\n",
    "\n",
    "# Compile model. Stochastic gradient descent with Nesterov accelerated gradient gives good results for this model\n",
    "sgd = SGD(lr=0.01, decay=1e-6, momentum=0.9, nesterov=True)\n",
    "model.compile(loss='categorical_crossentropy', optimizer=sgd, metrics=['accuracy'])\n",
    "\n",
    "#fitting and saving the model BLEU  \n",
    "hist = model.fit(np.array(train_x), np.array(train_y), epochs=100, batch_size=5, verbose=1)\n",
    "model.save('chatbot_model.h5', hist)\n",
    "\n",
    "print(\"model created\")"
   ]
  },
  {
   "cell_type": "code",
   "execution_count": 6,
   "id": "17be7a75",
   "metadata": {},
   "outputs": [],
   "source": [
    "import nltk\n",
    "from nltk.stem import WordNetLemmatizer\n",
    "lemmatizer = WordNetLemmatizer()\n",
    "import pickle\n",
    "import numpy as np\n",
    "from keras.models import load_model\n",
    "model = load_model('chatbot_model.h5')\n",
    "import json\n",
    "import random\n",
    "intents = json.loads(open('intents.json').read())\n",
    "words = pickle.load(open('words.pkl','rb'))\n",
    "classes = pickle.load(open('classes.pkl','rb'))"
   ]
  },
  {
   "cell_type": "code",
   "execution_count": 7,
   "id": "a4d5b642",
   "metadata": {},
   "outputs": [],
   "source": [
    "def clean_up_sentence(sentence):\n",
    "    # tokenize the pattern - split words into array\n",
    "    sentence_words = nltk.word_tokenize(sentence)\n",
    "    # stem each word - create short form for word\n",
    "    sentence_words = [lemmatizer.lemmatize(word.lower()) for word in sentence_words]\n",
    "    return sentence_words\n",
    "# return bag of words array: 0 or 1 for each word in the bag that exists in the sentence\n",
    "\n",
    "def bow(sentence, words, show_details=True):\n",
    "    # tokenize the pattern\n",
    "    sentence_words = clean_up_sentence(sentence)\n",
    "    # bag of words - matrix of N words, vocabulary matrix\n",
    "    bag = [0]*len(words) \n",
    "    for s in sentence_words:\n",
    "        for i,w in enumerate(words):\n",
    "            if w == s: \n",
    "                # assign 1 if current word is in the vocabulary position\n",
    "                bag[i] = 1\n",
    "                if show_details:\n",
    "                    print (\"found in bag: %s\" % w)\n",
    "    return(np.array(bag))\n",
    "\n",
    "def predict_class(sentence, model):\n",
    "    # filter out predictions below a threshold\n",
    "    p = bow(sentence, words,show_details=False)\n",
    "    res = model.predict(np.array([p]))[0]\n",
    "    ERROR_THRESHOLD = 0.25\n",
    "    results = [[i,r] for i,r in enumerate(res) if r>ERROR_THRESHOLD]\n",
    "    # sort by strength of probability\n",
    "    results.sort(key=lambda x: x[1], reverse=True)\n",
    "    return_list = []\n",
    "    for r in results:\n",
    "        return_list.append({\"intent\": classes[r[0]], \"probability\": str(r[1])})\n",
    "    return return_list"
   ]
  },
  {
   "cell_type": "code",
   "execution_count": 8,
   "id": "bf35c538",
   "metadata": {},
   "outputs": [],
   "source": [
    "def getResponse(ints, intents_json):\n",
    "    tag = ints[0]['intent']\n",
    "    list_of_intents = intents_json['intents']\n",
    "    for i in list_of_intents:\n",
    "        if(i['tag']== tag):\n",
    "            result = random.choice(i['responses'])\n",
    "            break\n",
    "    \n",
    "    return result\n",
    "\n",
    "def chatbot_response(text):\n",
    "    ints = predict_class(text, model)\n",
    "    res = getResponse(ints, intents)\n",
    "    return res\n"
   ]
  },
  {
   "cell_type": "code",
   "execution_count": 9,
   "id": "fe307906",
   "metadata": {},
   "outputs": [],
   "source": [
    "#Creating GUI with tkinter\n",
    "import tkinter\n",
    "from tkinter import *\n",
    "def send():\n",
    "    msg = EntryBox.get(\"1.0\",'end-1c').strip()\n",
    "    EntryBox.delete(\"0.0\",END)\n",
    "    if msg != '':\n",
    "        ChatLog.config(state=NORMAL)\n",
    "        ChatLog.insert(END, \"You: \" + msg + '\\n\\n')\n",
    "        ChatLog.config(foreground=\"#442265\", font=(\"Verdana\", 12 ))\n",
    "\n",
    "        res = chatbot_response(msg)\n",
    "        with open('op1.txt', 'a+') as f:\n",
    "            f.write('\\nuser: {}\\nBot: {}\\n'.format(msg,res))\n",
    "        with open('op2.txt', 'a+') as f:\n",
    "            f.write('\\n{}\\n'.format(msg))\n",
    "        ChatLog.insert(END, \"Bot: \" + res + '\\n\\n')\n",
    "        \n",
    "\n",
    "        ChatLog.config(state=DISABLED)\n",
    "        ChatLog.yview(END)\n",
    "    \n",
    "base = Tk()\n",
    "base.title(\"Foodie_Bot\")\n",
    "base.geometry(\"400x500\")\n",
    "base.resizable(width=FALSE, height=FALSE)\n",
    "\n",
    "#Create Chat window\n",
    "ChatLog = Text(base, bd=0, bg=\"white\", height=\"8\", width=\"50\", font=\"Arial\",)\n",
    "\n",
    "ChatLog.config(state=DISABLED)\n",
    "\n",
    "#Bind scrollbar to Chat window\n",
    "scrollbar = Scrollbar(base, command=ChatLog.yview, cursor=\"heart\")\n",
    "ChatLog['yscrollcommand'] = scrollbar.set\n",
    "\n",
    "#Create Button to send message\n",
    "SendButton = Button(base, font=(\"Verdana\",12,'bold'), text=\"Send\", width=\"12\", height=5,\n",
    "                    bd=0, bg=\"#32de97\", activebackground=\"#3c9d9b\",fg='#ffffff',\n",
    "                    command= send )\n",
    "\n",
    "#Create the box to enter message\n",
    "EntryBox = Text(base, bd=0, bg=\"white\",width=\"29\", height=\"5\", font=\"Arial\")\n",
    "#EntryBox.bind(\"<Return>\", send)\n",
    "\n",
    "#Place all components on the screen\n",
    "scrollbar.place(x=376,y=6, height=386)\n",
    "ChatLog.place(x=6,y=6, height=386, width=370)\n",
    "EntryBox.place(x=128, y=401, height=90, width=265)\n",
    "SendButton.place(x=6, y=401, height=90)\n",
    "\n",
    "base.mainloop()"
   ]
  },
  {
   "cell_type": "code",
   "execution_count": 10,
   "id": "d9543a9e",
   "metadata": {},
   "outputs": [
    {
     "name": "stdout",
     "output_type": "stream",
     "text": [
      "                          0\n",
      "0               Users_input\n",
      "1                     Hello\n",
      "2                 Yourself?\n",
      "3                  feedback\n",
      "4                     Hello\n",
      "5                        hi\n",
      "6               how are you\n",
      "7           food is not bad\n",
      "8              food is good\n",
      "9                     Hello\n",
      "10                      Hai\n",
      "11  Happy with your service\n",
      "12                    hello\n"
     ]
    }
   ],
   "source": [
    "data = pd.read_csv('op2.txt', header = None)\n",
    "print (data)"
   ]
  },
  {
   "cell_type": "code",
   "execution_count": 11,
   "id": "101ad9d1",
   "metadata": {},
   "outputs": [
    {
     "data": {
      "text/html": [
       "<div>\n",
       "<style scoped>\n",
       "    .dataframe tbody tr th:only-of-type {\n",
       "        vertical-align: middle;\n",
       "    }\n",
       "\n",
       "    .dataframe tbody tr th {\n",
       "        vertical-align: top;\n",
       "    }\n",
       "\n",
       "    .dataframe thead th {\n",
       "        text-align: right;\n",
       "    }\n",
       "</style>\n",
       "<table border=\"1\" class=\"dataframe\">\n",
       "  <thead>\n",
       "    <tr style=\"text-align: right;\">\n",
       "      <th></th>\n",
       "      <th>Review</th>\n",
       "      <th>sentiment</th>\n",
       "    </tr>\n",
       "  </thead>\n",
       "  <tbody>\n",
       "    <tr>\n",
       "      <th>0</th>\n",
       "      <td>Wow... Loved this place.</td>\n",
       "      <td>1</td>\n",
       "    </tr>\n",
       "    <tr>\n",
       "      <th>1</th>\n",
       "      <td>Crust is not good.</td>\n",
       "      <td>0</td>\n",
       "    </tr>\n",
       "    <tr>\n",
       "      <th>2</th>\n",
       "      <td>Not tasty and the texture was just nasty.</td>\n",
       "      <td>0</td>\n",
       "    </tr>\n",
       "    <tr>\n",
       "      <th>3</th>\n",
       "      <td>Stopped by during the late May bank holiday of...</td>\n",
       "      <td>1</td>\n",
       "    </tr>\n",
       "    <tr>\n",
       "      <th>4</th>\n",
       "      <td>The selection on the menu was great and so wer...</td>\n",
       "      <td>1</td>\n",
       "    </tr>\n",
       "  </tbody>\n",
       "</table>\n",
       "</div>"
      ],
      "text/plain": [
       "                                              Review  sentiment\n",
       "0                           Wow... Loved this place.          1\n",
       "1                                 Crust is not good.          0\n",
       "2          Not tasty and the texture was just nasty.          0\n",
       "3  Stopped by during the late May bank holiday of...          1\n",
       "4  The selection on the menu was great and so wer...          1"
      ]
     },
     "execution_count": 11,
     "metadata": {},
     "output_type": "execute_result"
    }
   ],
   "source": [
    "import pandas as pd\n",
    "import numpy as np\n",
    "df = pd.read_csv('Restaurant_Reviews.csv', sep=',') \n",
    "df.head()"
   ]
  },
  {
   "cell_type": "code",
   "execution_count": 12,
   "id": "b98af30d",
   "metadata": {},
   "outputs": [
    {
     "name": "stdout",
     "output_type": "stream",
     "text": [
      "<class 'pandas.core.frame.DataFrame'>\n",
      "RangeIndex: 1000 entries, 0 to 999\n",
      "Data columns (total 2 columns):\n",
      " #   Column     Non-Null Count  Dtype \n",
      "---  ------     --------------  ----- \n",
      " 0   Review     1000 non-null   object\n",
      " 1   sentiment  1000 non-null   int64 \n",
      "dtypes: int64(1), object(1)\n",
      "memory usage: 15.8+ KB\n"
     ]
    }
   ],
   "source": [
    "df.info()"
   ]
  },
  {
   "cell_type": "code",
   "execution_count": 13,
   "id": "581dd802",
   "metadata": {},
   "outputs": [],
   "source": [
    "from spacy.lang.en.stop_words import STOP_WORDS\n",
    "from spacy.lang.en import English\n",
    "import string\n",
    "punctuations = string.punctuation\n",
    "parser = English()\n",
    "stopwords = list(STOP_WORDS)\n",
    "def spacy_tokenizer(utterance):\n",
    "    tokens = parser(utterance)\n",
    "    return [token.lemma_.lower().strip() for token in tokens if token.text.lower().strip() not in stopwords and token.text not in punctuations]"
   ]
  },
  {
   "cell_type": "code",
   "execution_count": 14,
   "id": "24529014",
   "metadata": {},
   "outputs": [
    {
     "name": "stderr",
     "output_type": "stream",
     "text": [
      "[nltk_data] Downloading package stopwords to\n",
      "[nltk_data]     C:\\Users\\admin\\AppData\\Roaming\\nltk_data...\n",
      "[nltk_data]   Package stopwords is already up-to-date!\n"
     ]
    }
   ],
   "source": [
    "# Preprocessing\n",
    "nltk.download('stopwords')\n",
    "corpus = []\n",
    "for i in range(0, 1000): #as the data as 1000 data points\n",
    "    review = re.sub('[^a-zA-Z]', ' ', df['Review'][i])\n",
    "    review = review.lower()\n",
    "    review = review.split()\n",
    "    review = [lemmatizer.lemmatize(word) for word in review if not word in set(stopwords)]\n",
    "    review = ' '.join(review)\n",
    "    corpus.append(review)"
   ]
  },
  {
   "cell_type": "markdown",
   "id": "e0fead52",
   "metadata": {},
   "source": [
    "# Evaluating model"
   ]
  },
  {
   "cell_type": "code",
   "execution_count": 15,
   "id": "532ebdf4",
   "metadata": {},
   "outputs": [],
   "source": [
    "from sklearn.model_selection import train_test_split\n",
    "reviews = df['Review'].values\n",
    "labels = df['sentiment'].values\n",
    "reviews_train, reviews_test, y_train, y_test = train_test_split(reviews, labels,test_size = 0.3, random_state = 42)"
   ]
  },
  {
   "cell_type": "code",
   "execution_count": 16,
   "id": "5c04e11b",
   "metadata": {},
   "outputs": [
    {
     "name": "stderr",
     "output_type": "stream",
     "text": [
      "C:\\Users\\admin\\anaconda3\\envs\\notebook\\lib\\site-packages\\sklearn\\feature_extraction\\text.py:489: UserWarning:\n",
      "\n",
      "The parameter 'token_pattern' will not be used since 'tokenizer' is not None'\n",
      "\n"
     ]
    }
   ],
   "source": [
    "from sklearn.feature_extraction.text import CountVectorizer\n",
    "vectorizer = CountVectorizer(tokenizer = spacy_tokenizer, ngram_range=(1,1))\n",
    "#By default, the vectorizer might be created as follows:\n",
    "#vectorizer = CountVectorizer()\n",
    "vectorizer.fit(reviews_train)\n",
    "# Creating the Bag of Words model\n",
    "cv = CountVectorizer(max_features = 2000)\n",
    "#the X and y\n",
    "X = cv.fit_transform(corpus).toarray()\n",
    "y = df.iloc[:, 1].values\n",
    "#X- data\n",
    "#y- labels"
   ]
  },
  {
   "cell_type": "code",
   "execution_count": 17,
   "id": "4307d3cc",
   "metadata": {},
   "outputs": [],
   "source": [
    "X_train = vectorizer.transform(reviews_train)\n",
    "X_test = vectorizer.transform(reviews_test)"
   ]
  },
  {
   "cell_type": "code",
   "execution_count": 18,
   "id": "20032f10",
   "metadata": {},
   "outputs": [],
   "source": [
    "from sklearn import svm\n",
    "clf=svm.SVC(kernel='linear').fit(X_train,y_train)"
   ]
  },
  {
   "cell_type": "code",
   "execution_count": 19,
   "id": "21e5c587",
   "metadata": {},
   "outputs": [
    {
     "name": "stdout",
     "output_type": "stream",
     "text": [
      "49.333333333333336\n"
     ]
    }
   ],
   "source": [
    "classifier_prediction=clf.predict(X_test)\n",
    "print(accuracy_score(y_test,classifier_prediction)*100)"
   ]
  },
  {
   "cell_type": "code",
   "execution_count": 20,
   "id": "e7d68968",
   "metadata": {},
   "outputs": [
    {
     "data": {
      "text/plain": [
       "MultinomialNB(alpha=0.1)"
      ]
     },
     "execution_count": 20,
     "metadata": {},
     "output_type": "execute_result"
    }
   ],
   "source": [
    "from sklearn.naive_bayes import MultinomialNB\n",
    "classifier = MultinomialNB(alpha=0.1)\n",
    "classifier.fit(X_train, y_train)"
   ]
  },
  {
   "cell_type": "code",
   "execution_count": 21,
   "id": "41334d52",
   "metadata": {},
   "outputs": [],
   "source": [
    "predicted = classifier.predict(X_test)\n",
    "accuracy_score = metrics.accuracy_score(predicted,y_test)"
   ]
  },
  {
   "cell_type": "code",
   "execution_count": 22,
   "id": "7d6e1894",
   "metadata": {},
   "outputs": [
    {
     "name": "stdout",
     "output_type": "stream",
     "text": [
      "Accuracy: 0.49333333333333335\n"
     ]
    }
   ],
   "source": [
    "accuracy = classifier.score(X_test, y_test)\n",
    "print(\"Accuracy:\", accuracy)"
   ]
  },
  {
   "cell_type": "code",
   "execution_count": 23,
   "id": "82ab6980",
   "metadata": {},
   "outputs": [
    {
     "name": "stdout",
     "output_type": "stream",
     "text": [
      "49.33%\n"
     ]
    }
   ],
   "source": [
    "print(str('{:04.2f}'.format(accuracy_score*100))+'%')"
   ]
  },
  {
   "cell_type": "code",
   "execution_count": 24,
   "id": "8db94940",
   "metadata": {},
   "outputs": [],
   "source": [
    "# Logistic Regression\n",
    "from sklearn.linear_model import LogisticRegression\n",
    "lr = LogisticRegression() "
   ]
  },
  {
   "cell_type": "code",
   "execution_count": 25,
   "id": "c313b55d",
   "metadata": {},
   "outputs": [
    {
     "data": {
      "text/plain": [
       "LogisticRegression()"
      ]
     },
     "execution_count": 25,
     "metadata": {},
     "output_type": "execute_result"
    }
   ],
   "source": [
    "#Fit model on data\n",
    "lr.fit(X_train,y_train)"
   ]
  },
  {
   "cell_type": "code",
   "execution_count": 26,
   "id": "7f08bfe8",
   "metadata": {},
   "outputs": [
    {
     "name": "stdout",
     "output_type": "stream",
     "text": [
      "Accuracy: 0.49333333333333335\n",
      "49.33%\n"
     ]
    }
   ],
   "source": [
    "accuracy = classifier.score(X_test, y_test)\n",
    "print(\"Accuracy:\", accuracy)\n",
    "print(str('{:04.2f}'.format(accuracy_score*100))+'%')"
   ]
  },
  {
   "cell_type": "code",
   "execution_count": 27,
   "id": "2c692584",
   "metadata": {},
   "outputs": [],
   "source": [
    "#Make predictions\n",
    "predictions = lr.predict(X_test)"
   ]
  },
  {
   "cell_type": "code",
   "execution_count": 28,
   "id": "e5104351",
   "metadata": {},
   "outputs": [
    {
     "data": {
      "text/plain": [
       "RandomForestClassifier(criterion='entropy', n_estimators=501)"
      ]
     },
     "execution_count": 28,
     "metadata": {},
     "output_type": "execute_result"
    }
   ],
   "source": [
    "from sklearn.ensemble import RandomForestClassifier\n",
    "model = RandomForestClassifier(n_estimators = 501,  criterion = 'entropy')                             \n",
    "model.fit(X_train, y_train) "
   ]
  },
  {
   "cell_type": "code",
   "execution_count": 29,
   "id": "4540a1cb",
   "metadata": {},
   "outputs": [
    {
     "data": {
      "text/plain": [
       "array([0, 1, 0, 0, 0, 1, 0, 0, 1, 1, 0, 0, 1, 0, 1, 1, 1, 0, 0, 0, 0, 1,\n",
       "       0, 1, 0, 1, 1, 0, 1, 0, 1, 1, 0, 1, 1, 0, 1, 1, 0, 0, 0, 0, 0, 1,\n",
       "       1, 1, 1, 0, 0, 0, 1, 1, 1, 1, 1, 1, 1, 0, 1, 0, 0, 0, 0, 0, 1, 0,\n",
       "       0, 1, 0, 1, 1, 1, 1, 0, 1, 1, 0, 0, 1, 0, 1, 1, 1, 1, 0, 1, 1, 1,\n",
       "       0, 1, 0, 0, 1, 1, 1, 0, 0, 0, 0, 1, 0, 0, 1, 0, 1, 0, 0, 1, 0, 1,\n",
       "       0, 1, 0, 0, 1, 1, 0, 1, 0, 0, 0, 0, 0, 1, 0, 0, 1, 1, 1, 0, 0, 1,\n",
       "       1, 0, 0, 0, 0, 0, 0, 0, 1, 1, 0, 0, 0, 1, 1, 1, 0, 1, 1, 0, 0, 1,\n",
       "       0, 0, 0, 0, 1, 0, 0, 0, 1, 1, 1, 1, 0, 1, 1, 0, 1, 0, 1, 1, 0, 1,\n",
       "       0, 1, 1, 1, 1, 0, 1, 0, 1, 1, 1, 0, 1, 1, 1, 1, 1, 0, 0, 0, 1, 0,\n",
       "       1, 1, 1, 0, 1, 0, 1, 0, 0, 1, 0, 0, 1, 0, 1, 1, 1, 0, 0, 0, 1, 0,\n",
       "       1, 0, 1, 1, 1, 1, 1, 0, 1, 1, 1, 0, 0, 1, 0, 1, 0, 1, 1, 0, 1, 1,\n",
       "       0, 1, 0, 0, 0, 0, 0, 0, 1, 1, 0, 1, 0, 1, 1, 1, 1, 0, 1, 1, 1, 0,\n",
       "       1, 1, 0, 0, 0, 0, 0, 1, 0, 1, 0, 0, 0, 1, 0, 1, 1, 0, 0, 1, 1, 1,\n",
       "       1, 1, 0, 0, 0, 0, 1, 1, 0, 0, 1, 1, 1, 1], dtype=int64)"
      ]
     },
     "execution_count": 29,
     "metadata": {},
     "output_type": "execute_result"
    }
   ],
   "source": [
    "y_pred = model.predict(X_test)\n",
    "y_pred"
   ]
  },
  {
   "cell_type": "code",
   "execution_count": 30,
   "id": "f09bcc98",
   "metadata": {},
   "outputs": [
    {
     "name": "stdout",
     "output_type": "stream",
     "text": [
      "              precision    recall  f1-score   support\n",
      "\n",
      "           0       0.49      0.47      0.48       152\n",
      "           1       0.47      0.49      0.48       148\n",
      "\n",
      "    accuracy                           0.48       300\n",
      "   macro avg       0.48      0.48      0.48       300\n",
      "weighted avg       0.48      0.48      0.48       300\n",
      "\n"
     ]
    }
   ],
   "source": [
    "print(classification_report(y_test, y_pred))"
   ]
  },
  {
   "cell_type": "code",
   "execution_count": 31,
   "id": "8d9fcc1d",
   "metadata": {},
   "outputs": [
    {
     "name": "stdout",
     "output_type": "stream",
     "text": [
      "48.0\n"
     ]
    }
   ],
   "source": [
    "from sklearn.metrics import accuracy_score\n",
    "from sklearn.metrics import classification_report\n",
    "print(accuracy_score(y_test, y_pred)*100)"
   ]
  },
  {
   "cell_type": "code",
   "execution_count": 32,
   "id": "0888b0d5",
   "metadata": {},
   "outputs": [
    {
     "data": {
      "text/plain": [
       "array([[71, 81],\n",
       "       [75, 73]], dtype=int64)"
      ]
     },
     "execution_count": 32,
     "metadata": {},
     "output_type": "execute_result"
    }
   ],
   "source": [
    "from sklearn.metrics import confusion_matrix\n",
    "cm = confusion_matrix(y_test, y_pred)\n",
    "cm"
   ]
  },
  {
   "cell_type": "code",
   "execution_count": 33,
   "id": "902027fc",
   "metadata": {},
   "outputs": [
    {
     "data": {
      "text/plain": [
       "array([[  0,   0],\n",
       "       [152, 148]], dtype=int64)"
      ]
     },
     "execution_count": 33,
     "metadata": {},
     "output_type": "execute_result"
    }
   ],
   "source": [
    "#Testing find accuracy, precision, recall:\n",
    "new = np.asarray(y_test)\n",
    "confusion_matrix(predictions,y_test)"
   ]
  },
  {
   "cell_type": "code",
   "execution_count": 34,
   "id": "9d1e44b3",
   "metadata": {},
   "outputs": [
    {
     "data": {
      "text/plain": [
       "array([1], dtype=int64)"
      ]
     },
     "execution_count": 34,
     "metadata": {},
     "output_type": "execute_result"
    }
   ],
   "source": [
    "#Predictions on New Data\n",
    "new_reviews =pd.read_csv('op2.txt',sep='\\t')\n",
    "X_new = vectorizer.transform(new_reviews)\n",
    "classifier.predict(X_new)"
   ]
  },
  {
   "cell_type": "code",
   "execution_count": null,
   "id": "83f05718",
   "metadata": {},
   "outputs": [],
   "source": []
  }
 ],
 "metadata": {
  "kernelspec": {
   "display_name": "Python 3",
   "language": "python",
   "name": "python3"
  },
  "language_info": {
   "codemirror_mode": {
    "name": "ipython",
    "version": 3
   },
   "file_extension": ".py",
   "mimetype": "text/x-python",
   "name": "python",
   "nbconvert_exporter": "python",
   "pygments_lexer": "ipython3",
   "version": "3.7.10"
  }
 },
 "nbformat": 4,
 "nbformat_minor": 5
}
